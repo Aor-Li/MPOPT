{
 "metadata": {
  "language_info": {
   "codemirror_mode": {
    "name": "ipython",
    "version": 3
   },
   "file_extension": ".py",
   "mimetype": "text/x-python",
   "name": "python",
   "nbconvert_exporter": "python",
   "pygments_lexer": "ipython3",
   "version": "3.7.3-final"
  },
  "orig_nbformat": 2,
  "kernelspec": {
   "name": "python3",
   "display_name": "Python 3"
  }
 },
 "nbformat": 4,
 "nbformat_minor": 2,
 "cells": [
  {
   "source": [
    "# Optimization with MPOpt\n",
    "\n",
    "This is a demo which will show you the whole process of building, testing and analyzing your algorithm with `mpopt`."
   ],
   "cell_type": "markdown",
   "metadata": {}
  },
  {
   "source": [
    "import numpy as np"
   ],
   "cell_type": "code",
   "metadata": {},
   "execution_count": 2,
   "outputs": []
  },
  {
   "source": [
    "## 1. Objective Function\n",
    "\n",
    "`mpopt` use 'ObjFunction' as an abstraction of objective function. It contains the callable function and extra information needed for optimizer. \n",
    "\n",
    "For each run of optimization, an 'Evaluator' instance should be created and passed to the optimization algorithm. It holds all the information about the task and will automatically update states when some solutions are evaluated. \n",
    "\n",
    "Compared with the 'ask-tell' interface, this framework provides much more flexibility for optimization algorithm.\n",
    "\n",
    "You can get a standard evaluator from our provided benchmarks with following codes:"
   ],
   "cell_type": "markdown",
   "metadata": {}
  },
  {
   "source": [
    "from mpopt.benchmarks.benchmark import Benchmark\n",
    "# get benchmark CEC20 with 10 dim\n",
    "benchmark = Benchmark('CEC20', 10)\n",
    "# get an evaluator for the first function in benchmark\n",
    "evaluator = benchmark.generate(0)"
   ],
   "cell_type": "code",
   "metadata": {},
   "execution_count": 3,
   "outputs": []
  },
  {
   "source": [
    "Or you are free to build your own objective functions and evaluators. For example:"
   ],
   "cell_type": "markdown",
   "metadata": {}
  },
  {
   "cell_type": "code",
   "execution_count": 4,
   "metadata": {},
   "outputs": [],
   "source": [
    "from mpopt.tools.objective import ObjFunction, Evaluator\n",
    "\n",
    "# an callable objective function\n",
    "def my_obj(x):\n",
    "    return np.sum(x**2)\n",
    "\n",
    "# create objective function\n",
    "# information about my_obj is needed\n",
    "obj = ObjFunction(my_obj, dim=2, lb=-1, ub=1,)\n",
    "\n",
    "# create evaluator\n",
    "# information about the optimization is need\n",
    "evaluator = Evaluator(obj, max_eval=100)"
   ]
  },
  {
   "source": [
    "Now the evaluator is ready for an optimization. For example, this is how random-search be implemented in our framework. "
   ],
   "cell_type": "markdown",
   "metadata": {}
  },
  {
   "cell_type": "code",
   "execution_count": 5,
   "metadata": {},
   "outputs": [
    {
     "output_type": "stream",
     "name": "stdout",
     "text": [
      "Solution: [ 0.02720946 -0.05039847]. Val: 3.280e-03\n"
     ]
    }
   ],
   "source": [
    "# alias\n",
    "e = evaluator\n",
    "dim = e.obj.dim\n",
    "lb = e.obj.lb\n",
    "ub = e.obj.ub\n",
    "\n",
    "# algorithm begin\n",
    "while not e.terminate():\n",
    "    rand_sample = np.random.uniform(lb, ub, (1, dim))\n",
    "    e(rand_sample)\n",
    "print(\"Solution: {}. Val: {:.3e}\".format(e.best_x, e.best_y))"
   ]
  },
  {
   "source": [
    "## 2. Population\n",
    "\n",
    "Using the evaluator, we can directly start optimization as above. However, here we focus on optimization algorithm based on population(s). \n",
    "\n",
    "`mpopt` provide a base class `BasePop` for general population and a base class  `BaseFirework` for firework in `mpopt.population.base`. \n",
    "\n",
    "You are supposed to inherit from those class, and re-write methods you changed. New population definition should be stored in 'mpopt/population' directory.\n",
    "\n",
    "For exmaple, here we build a firework population with dynamic amplitude (which is the same as [BBFWA]):"
   ],
   "cell_type": "markdown",
   "metadata": {}
  },
  {
   "cell_type": "code",
   "execution_count": 6,
   "metadata": {},
   "outputs": [],
   "source": [
    "from mpopt.population.base import BaseFirework\n",
    "\n",
    "class DynFirework(BaseFirework):\n",
    "    # re-write __init__\n",
    "    def __init__(self, idv, val, amp, num_spk, **kwargs):\n",
    "        super().__init__(idv, val, **kwargs)\n",
    "\n",
    "        self.amp = amp\n",
    "        self.num_spk = num_spk\n",
    "\n",
    "        # set default dynamic ratio if not given\n",
    "        if 'dr_amp' not in self.__dict__:\n",
    "            self.dr_amp = 1.2\n",
    "        if 'dr_red' not in self.__dict__: \n",
    "            self.dr_red = 0.9\n",
    "\n",
    "    # re-write update for dynamic ratios\n",
    "    def update(self):\n",
    "        if self.val - self.new_val > 1e-5:\n",
    "            # improved\n",
    "            self.amp *= self.dr_amp\n",
    "        else:\n",
    "            self.amp *= self.dr_red\n",
    "        \n",
    "        # update firework\n",
    "        self.idv = self.new_idv\n",
    "        self.val = self.new_val"
   ]
  },
  {
   "source": [
    "Since we have default setting for other parts of the firework population, a `DynFirework` instance is ready to evolve with a evaluator once it is created. "
   ],
   "cell_type": "markdown",
   "metadata": {}
  },
  {
   "cell_type": "code",
   "execution_count": 7,
   "metadata": {},
   "outputs": [
    {
     "output_type": "stream",
     "name": "stdout",
     "text": [
      "Solution: [0.05369561 0.00543562]. Val: 2.913e-03\n"
     ]
    }
   ],
   "source": [
    "# set environment\n",
    "e = Evaluator(obj, max_eval=100)\n",
    "dim = e.obj.dim\n",
    "lb = e.obj.lb\n",
    "ub = e.obj.ub\n",
    "\n",
    "# init pop\n",
    "idv = np.random.uniform(lb, ub, (dim,))\n",
    "val = e(idv[np.newaxis,:])[0]\n",
    "\n",
    "firework = DynFirework(idv, val, ub-lb, 5, lb=lb, ub=ub)\n",
    "while not e.terminate():\n",
    "    firework.evolve(e)\n",
    "print(\"Solution: {}. Val: {:.3e}\".format(e.best_x, e.best_y))"
   ]
  },
  {
   "source": [
    "## optimization\n",
    "\n",
    "The cell above is already a runable optimization algorithm based on a single population. However, there are still two important features for an algorithm interface.\n",
    "\n"
   ],
   "cell_type": "markdown",
   "metadata": {}
  },
  {
   "source": [
    "### 1. Unified Interface\n",
    "\n",
    "For the convenience to apply or analysis our algorithm, it is better to unify their interface. We require each algorithm be abstracted as a class and provide following methods:\n",
    "\n",
    "- `__init__`: Define all the parameters and states (include populations) here for reading.\n",
    "\n",
    "- `default_params(self, benchmark=None)`: Get default parameters.\n",
    "\n",
    "- `set_params(self, params)`: Set parameters. \n",
    "\n",
    "- `init(self, e)`: Init states of the algorithm.\n",
    "\n",
    "- `optimize(self, e)`: Run optimization and return the optimal value.\n",
    "\n"
   ],
   "cell_type": "markdown",
   "metadata": {}
  },
  {
   "source": [
    "### 2. Collaborate Multiple Populations\n",
    "\n",
    "With `mpopt`, we hope to easily implement optimizations with multiple populations. Now the evolution method for each population can be pre-defined, we only need to consider the collaboration during each iteration.\n",
    "\n",
    "In order to maximize the flexibility of the algorithms, we leave all the states and parameters of population opened. So in each itaration, you can just let each population evolve and then do whatever you want."
   ],
   "cell_type": "markdown",
   "metadata": {}
  },
  {
   "source": [
    "### Example of LoTFWA (without guided mutation)\n",
    "\n",
    "We implement a LoTFWA without guided mutation algorithm as an example:"
   ],
   "cell_type": "markdown",
   "metadata": {}
  },
  {
   "cell_type": "code",
   "execution_count": 8,
   "metadata": {},
   "outputs": [
    {
     "output_type": "stream",
     "name": "stdout",
     "text": [
      "Solution: [-0.03927546 -0.00498935]. Val: 1.567e-03\n"
     ]
    }
   ],
   "source": [
    "from mpopt.algorithms.base import BaseAlg\n",
    "\n",
    "class DemoFWA(BaseAlg):\n",
    "\n",
    "    def __init__(self, obj):\n",
    "        # populations\n",
    "        self.fireworks = None\n",
    "        # params\n",
    "        self.fw_size = None\n",
    "        self.init_amp = None\n",
    "        self.num_spk = None\n",
    "        # load default\n",
    "        self.set_params(self.default_params(obj))\n",
    "    \n",
    "    def default_params(self, obj):\n",
    "        params = {}\n",
    "        params['fw_size'] = 4\n",
    "        params['init_amp'] = obj.ub - obj.lb\n",
    "        params['num_spk'] = 5\n",
    "        return params\n",
    "\n",
    "    def init(self, e):\n",
    "        init_pop = np.random.uniform(e.obj.lb, e.obj.ub, (self.fw_size, e.obj.dim))\n",
    "        init_fit = e(init_pop)\n",
    "        self.fireworks = [DynFirework(init_pop[i,:], \n",
    "                                      init_fit[i], \n",
    "                                      self.init_amp, \n",
    "                                      self.num_spk,\n",
    "                                      lb=e.obj.lb,\n",
    "                                      ub=e.obj.ub,) for i in range(self.fw_size)]\n",
    "    \n",
    "    def optimize(self, e):\n",
    "        self.init(e)\n",
    "        while not e.terminate():\n",
    "            # evolve\n",
    "            for idx in range(self.fw_size):\n",
    "                self.fireworks[idx].explode()\n",
    "                self.fireworks[idx].eval(e)\n",
    "                self.fireworks[idx].select()\n",
    "            \n",
    "            # collaborate\n",
    "            restart = [False] * self.fw_size\n",
    "            for idx in range(self.fw_size):\n",
    "                # alias\n",
    "                fw = self.fireworks[idx]\n",
    "                # improved\n",
    "                if fw.val - fw.new_val > 1e-5:\n",
    "                    rest_iter = (e.max_eval - e.num_eval) / (self.fw_size * self.num_spk)\n",
    "                    if (fw.val - fw.new_val) * rest_iter > (fw.val - e.cur_y):\n",
    "                        # restart fw\n",
    "                        restart[idx] = True\n",
    "                        restart_pop = np.random.uniform(e.obj.lb, e.obj.ub, (1, e.obj.dim))\n",
    "                        restart_fit = e(restart_pop) \n",
    "                        self.fireworks[idx] = DynFirework(restart_pop[0,:],\n",
    "                                                          restart_fit[0],\n",
    "                                                          self.init_amp,\n",
    "                                                          self.num_spk,\n",
    "                                                          lb=e.obj.lb,\n",
    "                                                          ub=e.obj.ub,)\n",
    "            \n",
    "            # update populations\n",
    "            for idx in range(self.fw_size):\n",
    "                if not restart[idx]:\n",
    "                    self.fireworks[idx].update()\n",
    "        \n",
    "        return e.best_y\n",
    "    \n",
    "# optimize\n",
    "e = Evaluator(obj, max_eval=1000)\n",
    "alg = DemoFWA(obj)\n",
    "alg.optimize(e)\n",
    "print(\"Solution: {}. Val: {:.3e}\".format(e.best_x, e.best_y))"
   ]
  },
  {
   "source": [
    "## Benchmarking\n",
    "\n",
    "We provide several standard benchmarks to test your algorithm in `mpopt.benchmarks`. As we shown before, `benchmark` instance can generate evaluators which is set according to the requirements of the benchmark.\n",
    "\n",
    "We also provide a standard testing script for benchmarking in `mpopt/../runs/benchmark_opt.py` which including evaluators generation, timing, multiprocessing, and result recording. You can run a test of LoTFWA on CEC20 by typing following code:"
   ],
   "cell_type": "markdown",
   "metadata": {}
  },
  {
   "cell_type": "code",
   "execution_count": 9,
   "metadata": {},
   "outputs": [
    {
     "output_type": "stream",
     "name": "stdout",
     "text": [
      "Prob.1   , res:7.2904e+05,\t time:13.904\n",
      "Prob.2   , res:1.8893e+03,\t time:15.603\n",
      "Prob.3   , res:7.2601e+02,\t time:14.656\n",
      "Prob.4   , res:1.9032e+03,\t time:14.404\n",
      "Prob.5   , res:7.1914e+03,\t time:15.030\n",
      "Prob.6   , res:1.6102e+03,\t time:15.128\n",
      "Prob.7   , res:4.4231e+03,\t time:15.182\n",
      "Prob.8   , res:2.3098e+03,\t time:19.365\n",
      "Prob.9   , res:2.7394e+03,\t time:19.831\n",
      "Prob.10  , res:2.8983e+03,\t time:19.960\n"
     ]
    }
   ],
   "source": [
    "!python ../runs/benchmark_opt.py -b CEC20 -d 10 -a LoTFWA -r 1 -n test"
   ]
  },
  {
   "source": [
    "## Results Comparing\n",
    "\n",
    "We provide useful comparing script for our formatted result records in `mpopt.tools.result.py`. (The printed results is formatted in terminal.)\n",
    "\n",
    "Providing two result paths, the script will conduct a statistical comparation:"
   ],
   "cell_type": "markdown",
   "metadata": {}
  },
  {
   "cell_type": "code",
   "execution_count": 10,
   "metadata": {},
   "outputs": [
    {
     "output_type": "stream",
     "name": "stdout",
     "text": [
      "Comparing on CEC20: alg1: AGSK, alg2: LoTFWA__test\nWin: 0, Lose: 10\n+-----+-----------+-----------+-----------+-----------+---------+-----+\n| idx | alg1.mean |  alg1.std | alg2.mean |  alg2.std | P-value | Sig |\n+-----+-----------+-----------+-----------+-----------+---------+-----+\n|  \u001b[1;31m1\u001b[0m  | \u001b[1;31m0.000e+00\u001b[0m | \u001b[1;31m0.000e+00\u001b[0m | \u001b[1;31m8.574e+05\u001b[0m | \u001b[1;31m3.675e+05\u001b[0m |   \u001b[1;31m0.00\u001b[0m  |  \u001b[1;31m+\u001b[0m  |\n|  \u001b[1;31m2\u001b[0m  | \u001b[1;31m2.845e+01\u001b[0m | \u001b[1;31m3.152e+01\u001b[0m | \u001b[1;31m5.925e+02\u001b[0m | \u001b[1;31m2.662e+02\u001b[0m |   \u001b[1;31m0.00\u001b[0m  |  \u001b[1;31m+\u001b[0m  |\n|  \u001b[1;31m3\u001b[0m  | \u001b[1;31m9.925e+00\u001b[0m | \u001b[1;31m4.186e+00\u001b[0m | \u001b[1;31m3.703e+01\u001b[0m | \u001b[1;31m6.706e+00\u001b[0m |   \u001b[1;31m0.00\u001b[0m  |  \u001b[1;31m+\u001b[0m  |\n|  \u001b[1;31m4\u001b[0m  | \u001b[1;31m5.826e-02\u001b[0m | \u001b[1;31m3.061e-02\u001b[0m | \u001b[1;31m3.664e+00\u001b[0m | \u001b[1;31m7.167e-01\u001b[0m |   \u001b[1;31m0.00\u001b[0m  |  \u001b[1;31m+\u001b[0m  |\n|  \u001b[1;31m5\u001b[0m  | \u001b[1;31m3.176e-01\u001b[0m | \u001b[1;31m3.008e-01\u001b[0m | \u001b[1;31m2.402e+04\u001b[0m | \u001b[1;31m2.837e+04\u001b[0m |   \u001b[1;31m0.00\u001b[0m  |  \u001b[1;31m+\u001b[0m  |\n|  \u001b[1;31m6\u001b[0m  | \u001b[1;31m1.547e-01\u001b[0m | \u001b[1;31m1.154e-01\u001b[0m | \u001b[1;31m8.700e+01\u001b[0m | \u001b[1;31m6.906e+01\u001b[0m |   \u001b[1;31m0.00\u001b[0m  |  \u001b[1;31m+\u001b[0m  |\n|  \u001b[1;31m7\u001b[0m  | \u001b[1;31m1.537e-03\u001b[0m | \u001b[1;31m1.682e-03\u001b[0m | \u001b[1;31m2.348e+03\u001b[0m | \u001b[1;31m1.083e+03\u001b[0m |   \u001b[1;31m0.00\u001b[0m  |  \u001b[1;31m+\u001b[0m  |\n|  \u001b[1;31m8\u001b[0m  | \u001b[1;31m1.800e+01\u001b[0m | \u001b[1;31m2.339e+01\u001b[0m | \u001b[1;31m7.327e+01\u001b[0m | \u001b[1;31m3.921e+01\u001b[0m |   \u001b[1;31m0.00\u001b[0m  |  \u001b[1;31m+\u001b[0m  |\n|  \u001b[1;31m9\u001b[0m  | \u001b[1;31m7.629e+01\u001b[0m | \u001b[1;31m4.214e+01\u001b[0m | \u001b[1;31m2.406e+02\u001b[0m | \u001b[1;31m1.203e+02\u001b[0m |   \u001b[1;31m0.00\u001b[0m  |  \u001b[1;31m+\u001b[0m  |\n|  \u001b[1;31m10\u001b[0m | \u001b[1;31m2.985e+02\u001b[0m | \u001b[1;31m1.404e+02\u001b[0m | \u001b[1;31m4.069e+02\u001b[0m | \u001b[1;31m1.740e+01\u001b[0m |   \u001b[1;31m0.00\u001b[0m  |  \u001b[1;31m+\u001b[0m  |\n+-----+-----------+-----------+-----------+-----------+---------+-----+\n"
     ]
    }
   ],
   "source": [
    "!python ../mpopt/tools/result.py ../logs/CEC20_10D/AGSK.json ../logs/CEC20_10D/LoTFWA.json --b CEC20 -d 10"
   ]
  },
  {
   "source": [
    "Providing more than two paths or a directory path, the script will conduct a averange ranking comparation:"
   ],
   "cell_type": "markdown",
   "metadata": {}
  },
  {
   "cell_type": "code",
   "execution_count": 12,
   "metadata": {},
   "outputs": [
    {
     "output_type": "stream",
     "name": "stdout",
     "text": [
      "Comparing on CEC20:\n+---------+-----------+-----------+-------------------+------------------+------------+-----------+\n|   idx   | AGSK.mean |  AGSK.std | LoTFWA__test.mean | LoTFWA__test.std | IMODE.mean | IMODE.std |\n+---------+-----------+-----------+-------------------+------------------+------------+-----------+\n|    1    | \u001b[1;31m1.000e+02\u001b[0m | \u001b[1;31m0.000e+00\u001b[0m |     8.575e+05     |    3.675e+05     | \u001b[1;31m1.000e+02\u001b[0m  | \u001b[1;31m0.000e+00\u001b[0m |\n|    2    | 1.128e+03 | 3.152e+01 |     1.692e+03     |    2.662e+02     | \u001b[1;31m1.104e+03\u001b[0m  | \u001b[1;31m3.639e+00\u001b[0m |\n|    3    | \u001b[1;31m7.099e+02\u001b[0m | \u001b[1;31m4.186e+00\u001b[0m |     7.370e+02     |    6.706e+00     | 7.121e+02  | 7.694e-01 |\n|    4    | 1.900e+03 | 3.061e-02 |     1.904e+03     |    7.167e-01     | \u001b[1;31m1.900e+03\u001b[0m  | \u001b[1;31m0.000e+00\u001b[0m |\n|    5    | \u001b[1;31m1.700e+03\u001b[0m | \u001b[1;31m3.008e-01\u001b[0m |     2.572e+04     |    2.837e+04     | 1.700e+03  | 3.768e-01 |\n|    6    | 1.600e+03 | 1.154e-01 |     1.687e+03     |    6.906e+01     | \u001b[1;31m1.600e+03\u001b[0m  | \u001b[1;31m4.996e-02\u001b[0m |\n|    7    | 2.100e+03 | 1.682e-03 |     4.448e+03     |    1.083e+03     | \u001b[1;31m2.100e+03\u001b[0m  | \u001b[1;31m1.078e-03\u001b[0m |\n|    8    | 2.218e+03 | 2.339e+01 |     2.273e+03     |    3.921e+01     | \u001b[1;31m2.203e+03\u001b[0m  | \u001b[1;31m7.333e+00\u001b[0m |\n|    9    | 2.476e+03 | 4.214e+01 |     2.641e+03     |    1.203e+02     | \u001b[1;31m2.441e+03\u001b[0m  | \u001b[1;31m4.388e+01\u001b[0m |\n|    10   | \u001b[1;31m2.798e+03\u001b[0m | \u001b[1;31m1.404e+02\u001b[0m |     2.907e+03     |    1.740e+01     | 2.898e+03  | 4.547e-13 |\n| AvgRank |    1.60   |           |        2.90       |                  |    1.30    |           |\n+---------+-----------+-----------+-------------------+------------------+------------+-----------+\n"
     ]
    }
   ],
   "source": [
    "!python ../mpopt/tools/result.py ../logs/CEC20_10D/ --b CEC20 -d 10"
   ]
  }
 ]
}